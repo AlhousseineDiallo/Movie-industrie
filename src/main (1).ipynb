{
  "nbformat": 4,
  "nbformat_minor": 0,
  "metadata": {
    "colab": {
      "provenance": []
    },
    "kernelspec": {
      "name": "python3",
      "display_name": "Python 3"
    },
    "language_info": {
      "name": "python"
    }
  },
  "cells": [
    {
      "cell_type": "code",
      "execution_count": null,
      "metadata": {
        "id": "NnqS8Sg1OBF7"
      },
      "outputs": [],
      "source": [
        "import pandas as pd\n",
        "import numpy as np\n",
        "import seaborn as sns\n",
        "import matplotlib\n",
        "import matplotlib.pyplot as plt\n"
      ]
    },
    {
      "cell_type": "code",
      "source": [
        "path = \"/content/drive/MyDrive/datasets/movies.csv\"\n",
        "df = pd.read_csv(path)"
      ],
      "metadata": {
        "id": "X1aFDtK6O1bK"
      },
      "execution_count": null,
      "outputs": []
    },
    {
      "cell_type": "code",
      "source": [
        "# Take a look to the data\n",
        "df"
      ],
      "metadata": {
        "id": "yMriXy7wTcVo"
      },
      "execution_count": null,
      "outputs": []
    },
    {
      "cell_type": "code",
      "source": [
        "df.head()\n"
      ],
      "metadata": {
        "id": "_V863WFLUT5o"
      },
      "execution_count": null,
      "outputs": []
    },
    {
      "cell_type": "code",
      "source": [
        "df.tail()"
      ],
      "metadata": {
        "id": "VD8UN2omUe1O"
      },
      "execution_count": null,
      "outputs": []
    },
    {
      "cell_type": "code",
      "source": [
        "df.shape"
      ],
      "metadata": {
        "id": "VXHB6yxrUiVA"
      },
      "execution_count": null,
      "outputs": []
    },
    {
      "cell_type": "code",
      "source": [
        "# The useful information in our dataset\n",
        "df.info()"
      ],
      "metadata": {
        "id": "QsaSo6L_Umos"
      },
      "execution_count": null,
      "outputs": []
    },
    {
      "cell_type": "code",
      "source": [
        "# Data types for our columns\n",
        "df.dtypes"
      ],
      "metadata": {
        "id": "c96ltu0GVKMS"
      },
      "execution_count": null,
      "outputs": []
    },
    {
      "cell_type": "code",
      "source": [
        "# Let's see if we have any missing data\n",
        "\n",
        "for col in df.columns:\n",
        "  pct_missing = np.mean(df[col].isnull()) * 100\n",
        "  print(f\"The {col} column has {pct_missing}% of missing values\")"
      ],
      "metadata": {
        "id": "Asvjr_CSVqP_"
      },
      "execution_count": null,
      "outputs": []
    },
    {
      "cell_type": "code",
      "source": [
        "df.info()"
      ],
      "metadata": {
        "id": "UyHCid6VeQ3k"
      },
      "execution_count": null,
      "outputs": []
    },
    {
      "cell_type": "code",
      "source": [
        "#Deletion of the missing values\n",
        "df.dropna(inplace = True)"
      ],
      "metadata": {
        "id": "zkzRFlw0fJP6"
      },
      "execution_count": null,
      "outputs": []
    },
    {
      "cell_type": "code",
      "source": [
        "#Verification\n",
        "df.shape"
      ],
      "metadata": {
        "id": "nnO84EVvf6dC"
      },
      "execution_count": null,
      "outputs": []
    },
    {
      "cell_type": "code",
      "source": [
        "# change the data of columns\n",
        "df.budget"
      ],
      "metadata": {
        "id": "b_H4AGRBhBwm"
      },
      "execution_count": null,
      "outputs": []
    },
    {
      "cell_type": "code",
      "source": [
        "df['budget'] = df['budget'].astype(int)\n",
        "df['budget']"
      ],
      "metadata": {
        "id": "Y1GpjsqLhzcO"
      },
      "execution_count": null,
      "outputs": []
    },
    {
      "cell_type": "code",
      "source": [
        "df.tail(15)"
      ],
      "metadata": {
        "id": "EjK6ekPdjskX"
      },
      "execution_count": null,
      "outputs": []
    },
    {
      "cell_type": "code",
      "source": [
        "df['correct_year'] = df['released'].str.extract(pat = '([0-9]{4})').astype(int)\n",
        "df['correct_year']"
      ],
      "metadata": {
        "id": "dLzP_Cykkc40"
      },
      "execution_count": null,
      "outputs": []
    },
    {
      "cell_type": "code",
      "source": [
        "# sort data by gross earning\n",
        "df.sort_values(by = 'gross', ascending = False, inplace = True)\n",
        "df"
      ],
      "metadata": {
        "id": "-pjRGF0npt4v"
      },
      "execution_count": null,
      "outputs": []
    },
    {
      "cell_type": "code",
      "source": [
        "# Drop duplicates\n",
        "df.drop_duplicates()"
      ],
      "metadata": {
        "id": "wTRjyHu9rgpt"
      },
      "execution_count": null,
      "outputs": []
    },
    {
      "cell_type": "code",
      "source": [
        "plt.style.available"
      ],
      "metadata": {
        "id": "o2EE7x97zlr_"
      },
      "execution_count": null,
      "outputs": []
    },
    {
      "cell_type": "code",
      "source": [
        "#Finding correlation in our data\n",
        "\n",
        "# scatter with budget vs revenue\n",
        "\n",
        "plt.figure(figsize=(8, 6))\n",
        "plt.style.use('fivethirtyeight')\n",
        "plt.scatter(x = df['budget'], y = df['gross'])\n",
        "plt.title('Budget vs Gross earning')\n",
        "plt.xlabel('Budget for film')\n",
        "plt.ylabel('Gross earning')\n",
        "plt.show()"
      ],
      "metadata": {
        "id": "sXvZKg9otw0h"
      },
      "execution_count": null,
      "outputs": []
    },
    {
      "cell_type": "code",
      "source": [
        "# The linear regression line with seaborn\n",
        "\n",
        "sns.regplot(x = 'budget', y = 'gross', data = df, scatter_kws = {'color' : 'red'}, line_kws = {'color' : 'blue', 'linewidth' : 1.5})"
      ],
      "metadata": {
        "id": "5f_gwhv91O4q"
      },
      "execution_count": null,
      "outputs": []
    },
    {
      "cell_type": "code",
      "source": [
        "# Let's start looking at correlation\n",
        "df.corr(numeric_only = True, method= 'pearson')"
      ],
      "metadata": {
        "id": "szSKHtJa4xzP"
      },
      "execution_count": null,
      "outputs": []
    },
    {
      "cell_type": "code",
      "source": [
        "# So we have a high correlation between budget and gross !"
      ],
      "metadata": {
        "id": "btKRoxVw_g0f"
      },
      "execution_count": null,
      "outputs": []
    },
    {
      "cell_type": "code",
      "source": [
        "correlation_matrix = df.corr(numeric_only = True, method= 'pearson')\n",
        "sns.heatmap(correlation_matrix, annot= True)\n",
        "plt.title('Correlation Matrix for Numeric Features')\n",
        "plt.xlabel('Movies Features')\n",
        "plt.ylabel('Movies Features')\n",
        "plt.show()\n"
      ],
      "metadata": {
        "id": "xs5SMkWc__IH"
      },
      "execution_count": null,
      "outputs": []
    },
    {
      "cell_type": "code",
      "source": [
        "#Looks at company !\n",
        "df.head()"
      ],
      "metadata": {
        "id": "rZqtPfJbC8Wt"
      },
      "execution_count": null,
      "outputs": []
    },
    {
      "cell_type": "code",
      "source": [
        "df_num = df.copy()\n",
        "\n",
        "for col_name in df_num.columns:\n",
        "  if df_num[col_name].dtype == 'object':\n",
        "    df_num[col_name] = df_num[col_name].astype('category')\n",
        "    df_num[col_name] = df_num[col_name].cat.codes\n",
        "\n",
        "\n",
        "df_num"
      ],
      "metadata": {
        "id": "fdwCNgX_Dbir"
      },
      "execution_count": null,
      "outputs": []
    },
    {
      "cell_type": "code",
      "source": [
        "df"
      ],
      "metadata": {
        "id": "nJe8FZlUHHb9"
      },
      "execution_count": null,
      "outputs": []
    },
    {
      "cell_type": "code",
      "source": [
        "correlation_matrix_1 = df_num.corr(numeric_only=True, method= 'pearson')\n",
        "\n",
        "sns.heatmap(correlation_matrix_1, annot= True, annot_kws={'fontsize' : 6})\n",
        "plt.title('Correlation matrix for Numeric Features')\n",
        "plt.xlabel('Movies Features')\n",
        "plt.ylabel('Movies Features')\n",
        "plt.show()"
      ],
      "metadata": {
        "id": "ACM_a1ytIctx"
      },
      "execution_count": null,
      "outputs": []
    },
    {
      "cell_type": "code",
      "source": [
        "df_num.corr()"
      ],
      "metadata": {
        "id": "eGX2dexpKrnE"
      },
      "execution_count": null,
      "outputs": []
    },
    {
      "cell_type": "code",
      "source": [
        "pd.options.display.max_rows = None\n",
        "\n",
        "correlation_matrix_1 = df_num.corr()\n",
        "corr_pairs = correlation_matrix_1.unstack()\n",
        "\n",
        "corr_pairs"
      ],
      "metadata": {
        "id": "cqb3n6uQLfgj"
      },
      "execution_count": null,
      "outputs": []
    },
    {
      "cell_type": "code",
      "source": [
        "sorted_pairs = corr_pairs.sort_values(ascending= False)\n",
        "sorted_pairs"
      ],
      "metadata": {
        "id": "xW1NWoLONmig"
      },
      "execution_count": null,
      "outputs": []
    },
    {
      "cell_type": "code",
      "source": [
        "high_correlation = sorted_pairs[(sorted_pairs) > 0.5]\n",
        "high_correlation"
      ],
      "metadata": {
        "id": "qEYYJZ1fODcb"
      },
      "execution_count": null,
      "outputs": []
    },
    {
      "cell_type": "code",
      "source": [
        "# In conclusion gross earnings depends greatly on votes and budget"
      ],
      "metadata": {
        "id": "q7YOL_T6O7j7"
      },
      "execution_count": null,
      "outputs": []
    }
  ]
}